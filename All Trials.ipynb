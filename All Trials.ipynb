{
 "cells": [
  {
   "cell_type": "code",
   "execution_count": 12,
   "metadata": {},
   "outputs": [],
   "source": [
    "import pandas as pd\n",
    "file_path = './data/trials.csv'\n",
    "trial_data = pd.read_csv(file_path)"
   ]
  },
  {
   "cell_type": "code",
   "execution_count": 13,
   "metadata": {},
   "outputs": [
    {
     "data": {
      "text/plain": [
       "Index(['id', 'title', 'description', 'sponsor', 'nct_id', 'official_title',\n",
       "       'agency_class', 'detailed_description', 'overall_status', 'phase',\n",
       "       'study_type', 'gender', 'minimum_age', 'maximum_age',\n",
       "       'healthy_volunteers', 'overall_contact_name', 'created_at',\n",
       "       'updated_at', 'minimum_age_original', 'maximum_age_original',\n",
       "       'conditions', 'criteria', 'countries', 'overall_contact_phone',\n",
       "       'overall_contact_email', 'link_url', 'link_description',\n",
       "       'first_received_date', 'last_changed_date', 'verification_date',\n",
       "       'keywords', 'is_fda_regulated', 'has_expanded_access', 'sites_count',\n",
       "       'keywords_as_text', 'conditions_as_text', 'overall_official_name',\n",
       "       'overall_official_affilitation', 'overall_official_role', 'tsv'],\n",
       "      dtype='object')"
      ]
     },
     "execution_count": 13,
     "metadata": {},
     "output_type": "execute_result"
    }
   ],
   "source": [
    "trial_data.columns"
   ]
  },
  {
   "cell_type": "code",
   "execution_count": 16,
   "metadata": {},
   "outputs": [
    {
     "name": "stdout",
     "output_type": "stream",
     "text": [
      "        nct_id                                              title  \\\n",
      "0  NCT02743741  Lu-DOTATATE Treatment in Patients With 68Ga-DO...   \n",
      "1  NCT03511755  12-Week Study Assessing Change in Psoriasis Se...   \n",
      "2  NCT01718990  Biomarker Discovery for Novel Drug Development...   \n",
      "3  NCT03068624  Study of Cellular Adoptive Immunotherapy Using...   \n",
      "4  NCT03243851  Study on Low Dose Temozolomide Plus Metformin ...   \n",
      "\n",
      "                                         description  \n",
      "0  \\n      This is a prospective single arm, mult...  \n",
      "1  \\n      This is a 12-Week, multicenter, double...  \n",
      "2  \\n      Drug discovery can take many years esp...  \n",
      "3  \\n      This clinical research study is divide...  \n",
      "4  \\n      A phase 2 clinical trial for the effic...  \n"
     ]
    }
   ],
   "source": [
    "key_columns = ['nct_id','title', 'description']\n",
    "key_table = trial_data[key_columns]\n",
    "print(key_table.head())"
   ]
  },
  {
   "cell_type": "code",
   "execution_count": null,
   "metadata": {},
   "outputs": [],
   "source": []
  }
 ],
 "metadata": {
  "kernelspec": {
   "display_name": "Python 3",
   "language": "python",
   "name": "python3"
  },
  "language_info": {
   "codemirror_mode": {
    "name": "ipython",
    "version": 3
   },
   "file_extension": ".py",
   "mimetype": "text/x-python",
   "name": "python",
   "nbconvert_exporter": "python",
   "pygments_lexer": "ipython3",
   "version": "3.6.4"
  }
 },
 "nbformat": 4,
 "nbformat_minor": 2
}
