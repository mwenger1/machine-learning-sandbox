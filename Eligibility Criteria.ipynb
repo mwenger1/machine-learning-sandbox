{
 "cells": [
  {
   "cell_type": "code",
   "execution_count": 12,
   "metadata": {},
   "outputs": [
    {
     "name": "stdout",
     "output_type": "stream",
     "text": [
      "Requirement already satisfied: numpy in /usr/local/lib/python3.6/site-packages (1.14.5)\r\n",
      "Requirement already satisfied: pandas in /usr/local/lib/python3.6/site-packages (0.23.2)\r\n",
      "Requirement already satisfied: python-dateutil>=2.5.0 in /usr/local/lib/python3.6/site-packages (from pandas) (2.7.0)\r\n",
      "Requirement already satisfied: pytz>=2011k in /usr/local/lib/python3.6/site-packages (from pandas) (2018.5)\r\n",
      "Requirement already satisfied: six>=1.5 in /usr/local/lib/python3.6/site-packages (from python-dateutil>=2.5.0->pandas) (1.11.0)\r\n"
     ]
    }
   ],
   "source": [
    "import sys\n",
    "!{sys.executable} -m pip install numpy pandas"
   ]
  },
  {
   "cell_type": "code",
   "execution_count": 40,
   "metadata": {},
   "outputs": [],
   "source": [
    "import pandas as pd\n",
    "pd.set_option('max_rows', 10)"
   ]
  },
  {
   "cell_type": "code",
   "execution_count": 41,
   "metadata": {},
   "outputs": [
    {
     "name": "stdout",
     "output_type": "stream",
     "text": [
      "              Rooms         Price      Distance      Postcode      Bedroom2  \\\n",
      "count  13580.000000  1.358000e+04  13580.000000  13580.000000  13580.000000   \n",
      "mean       2.937997  1.075684e+06     10.137776   3105.301915      2.914728   \n",
      "std        0.955748  6.393107e+05      5.868725     90.676964      0.965921   \n",
      "min        1.000000  8.500000e+04      0.000000   3000.000000      0.000000   \n",
      "25%        2.000000  6.500000e+05      6.100000   3044.000000      2.000000   \n",
      "50%        3.000000  9.030000e+05      9.200000   3084.000000      3.000000   \n",
      "75%        3.000000  1.330000e+06     13.000000   3148.000000      3.000000   \n",
      "max       10.000000  9.000000e+06     48.100000   3977.000000     20.000000   \n",
      "\n",
      "           Bathroom           Car       Landsize  BuildingArea    YearBuilt  \\\n",
      "count  13580.000000  13518.000000   13580.000000   7130.000000  8205.000000   \n",
      "mean       1.534242      1.610075     558.416127    151.967650  1964.684217   \n",
      "std        0.691712      0.962634    3990.669241    541.014538    37.273762   \n",
      "min        0.000000      0.000000       0.000000      0.000000  1196.000000   \n",
      "25%        1.000000      1.000000     177.000000     93.000000  1940.000000   \n",
      "50%        1.000000      2.000000     440.000000    126.000000  1970.000000   \n",
      "75%        2.000000      2.000000     651.000000    174.000000  1999.000000   \n",
      "max        8.000000     10.000000  433014.000000  44515.000000  2018.000000   \n",
      "\n",
      "          Lattitude    Longtitude  Propertycount  \n",
      "count  13580.000000  13580.000000   13580.000000  \n",
      "mean     -37.809203    144.995216    7454.417378  \n",
      "std        0.079260      0.103916    4378.581772  \n",
      "min      -38.182550    144.431810     249.000000  \n",
      "25%      -37.856822    144.929600    4380.000000  \n",
      "50%      -37.802355    145.000100    6555.000000  \n",
      "75%      -37.756400    145.058305   10331.000000  \n",
      "max      -37.408530    145.526350   21650.000000  \n"
     ]
    }
   ],
   "source": [
    "# save filepath to variable for easier access\n",
    "melbourne_file_path = './data/melb_data.csv'\n",
    "# read the data and store data in DataFrame titled melbourne_data\n",
    "melbourne_data = pd.read_csv(melbourne_file_path) \n",
    "# print a summary of the data in Melbourne data\n",
    "print(melbourne_data.describe())"
   ]
  },
  {
   "cell_type": "code",
   "execution_count": 42,
   "metadata": {},
   "outputs": [
    {
     "name": "stdout",
     "output_type": "stream",
     "text": [
      "       Suburb           Address  Rooms Type      Price Method SellerG  \\\n",
      "0  Abbotsford      85 Turner St      2    h  1480000.0      S  Biggin   \n",
      "1  Abbotsford   25 Bloomburg St      2    h  1035000.0      S  Biggin   \n",
      "2  Abbotsford      5 Charles St      3    h  1465000.0     SP  Biggin   \n",
      "3  Abbotsford  40 Federation La      3    h   850000.0     PI  Biggin   \n",
      "4  Abbotsford       55a Park St      4    h  1600000.0     VB  Nelson   \n",
      "\n",
      "        Date  Distance  Postcode      ...       Bathroom  Car  Landsize  \\\n",
      "0  3/12/2016       2.5    3067.0      ...            1.0  1.0     202.0   \n",
      "1  4/02/2016       2.5    3067.0      ...            1.0  0.0     156.0   \n",
      "2  4/03/2017       2.5    3067.0      ...            2.0  0.0     134.0   \n",
      "3  4/03/2017       2.5    3067.0      ...            2.0  1.0      94.0   \n",
      "4  4/06/2016       2.5    3067.0      ...            1.0  2.0     120.0   \n",
      "\n",
      "   BuildingArea  YearBuilt  CouncilArea Lattitude  Longtitude  \\\n",
      "0           NaN        NaN        Yarra  -37.7996    144.9984   \n",
      "1          79.0     1900.0        Yarra  -37.8079    144.9934   \n",
      "2         150.0     1900.0        Yarra  -37.8093    144.9944   \n",
      "3           NaN        NaN        Yarra  -37.7969    144.9969   \n",
      "4         142.0     2014.0        Yarra  -37.8072    144.9941   \n",
      "\n",
      "              Regionname Propertycount  \n",
      "0  Northern Metropolitan        4019.0  \n",
      "1  Northern Metropolitan        4019.0  \n",
      "2  Northern Metropolitan        4019.0  \n",
      "3  Northern Metropolitan        4019.0  \n",
      "4  Northern Metropolitan        4019.0  \n",
      "\n",
      "[5 rows x 21 columns]\n"
     ]
    }
   ],
   "source": [
    "print(melbourne_data.head())"
   ]
  },
  {
   "cell_type": "code",
   "execution_count": 46,
   "metadata": {},
   "outputs": [
    {
     "name": "stdout",
     "output_type": "stream",
     "text": [
      "              Address      Price\n",
      "0        85 Turner St  1480000.0\n",
      "1     25 Bloomburg St  1035000.0\n",
      "2        5 Charles St  1465000.0\n",
      "3    40 Federation La   850000.0\n",
      "4         55a Park St  1600000.0\n",
      "5      129 Charles St   941000.0\n",
      "6        124 Yarra St  1876000.0\n",
      "7       98 Charles St  1636000.0\n",
      "8  6/241 Nicholson St   300000.0\n",
      "9       10 Valiant St  1097000.0\n",
      "0       -37.79960\n",
      "1       -37.80790\n",
      "2       -37.80930\n",
      "3       -37.79690\n",
      "4       -37.80720\n",
      "           ...   \n",
      "13575   -37.90562\n",
      "13576   -37.85927\n",
      "13577   -37.85274\n",
      "13578   -37.85908\n",
      "13579   -37.81188\n",
      "Name: Lattitude, Length: 13580, dtype: float64\n"
     ]
    }
   ],
   "source": [
    "columns_of_interest = ['Address', 'Price']\n",
    "two_columns_of_data = melbourne_data[columns_of_interest]\n",
    "print(melbourne_data[columns_of_interest].head(10))"
   ]
  },
  {
   "cell_type": "code",
   "execution_count": 44,
   "metadata": {},
   "outputs": [
    {
     "data": {
      "text/html": [
       "<div>\n",
       "<style scoped>\n",
       "    .dataframe tbody tr th:only-of-type {\n",
       "        vertical-align: middle;\n",
       "    }\n",
       "\n",
       "    .dataframe tbody tr th {\n",
       "        vertical-align: top;\n",
       "    }\n",
       "\n",
       "    .dataframe thead th {\n",
       "        text-align: right;\n",
       "    }\n",
       "</style>\n",
       "<table border=\"1\" class=\"dataframe\">\n",
       "  <thead>\n",
       "    <tr style=\"text-align: right;\">\n",
       "      <th></th>\n",
       "      <th>Price</th>\n",
       "    </tr>\n",
       "  </thead>\n",
       "  <tbody>\n",
       "    <tr>\n",
       "      <th>count</th>\n",
       "      <td>1.358000e+04</td>\n",
       "    </tr>\n",
       "    <tr>\n",
       "      <th>mean</th>\n",
       "      <td>1.075684e+06</td>\n",
       "    </tr>\n",
       "    <tr>\n",
       "      <th>std</th>\n",
       "      <td>6.393107e+05</td>\n",
       "    </tr>\n",
       "    <tr>\n",
       "      <th>min</th>\n",
       "      <td>8.500000e+04</td>\n",
       "    </tr>\n",
       "    <tr>\n",
       "      <th>25%</th>\n",
       "      <td>6.500000e+05</td>\n",
       "    </tr>\n",
       "    <tr>\n",
       "      <th>50%</th>\n",
       "      <td>9.030000e+05</td>\n",
       "    </tr>\n",
       "    <tr>\n",
       "      <th>75%</th>\n",
       "      <td>1.330000e+06</td>\n",
       "    </tr>\n",
       "    <tr>\n",
       "      <th>max</th>\n",
       "      <td>9.000000e+06</td>\n",
       "    </tr>\n",
       "  </tbody>\n",
       "</table>\n",
       "</div>"
      ],
      "text/plain": [
       "              Price\n",
       "count  1.358000e+04\n",
       "mean   1.075684e+06\n",
       "std    6.393107e+05\n",
       "min    8.500000e+04\n",
       "25%    6.500000e+05\n",
       "50%    9.030000e+05\n",
       "75%    1.330000e+06\n",
       "max    9.000000e+06"
      ]
     },
     "execution_count": 44,
     "metadata": {},
     "output_type": "execute_result"
    }
   ],
   "source": [
    "two_columns_of_data.describe()"
   ]
  },
  {
   "cell_type": "code",
   "execution_count": 47,
   "metadata": {},
   "outputs": [
    {
     "name": "stdout",
     "output_type": "stream",
     "text": [
      "RangeIndex(start=0, stop=13580, step=1)\n"
     ]
    }
   ],
   "source": [
    "print(melbourne_data.index)"
   ]
  },
  {
   "cell_type": "code",
   "execution_count": 48,
   "metadata": {},
   "outputs": [
    {
     "name": "stdout",
     "output_type": "stream",
     "text": [
      "Index(['Suburb', 'Address', 'Rooms', 'Type', 'Price', 'Method', 'SellerG',\n",
      "       'Date', 'Distance', 'Postcode', 'Bedroom2', 'Bathroom', 'Car',\n",
      "       'Landsize', 'BuildingArea', 'YearBuilt', 'CouncilArea', 'Lattitude',\n",
      "       'Longtitude', 'Regionname', 'Propertycount'],\n",
      "      dtype='object')\n"
     ]
    }
   ],
   "source": [
    "print(melbourne_data.columns)"
   ]
  },
  {
   "cell_type": "code",
   "execution_count": 53,
   "metadata": {},
   "outputs": [
    {
     "name": "stdout",
     "output_type": "stream",
     "text": [
      "[['Abbotsford' '85 Turner St' 2 ... 144.9984 'Northern Metropolitan'\n",
      "  4019.0]\n",
      " ['Abbotsford' '25 Bloomburg St' 2 ... 144.9934 'Northern Metropolitan'\n",
      "  4019.0]\n",
      " ['Abbotsford' '5 Charles St' 3 ... 144.9944 'Northern Metropolitan'\n",
      "  4019.0]\n",
      " ...\n",
      " ['Williamstown' '83 Power St' 3 ... 144.88738 'Western Metropolitan'\n",
      "  6380.0]\n",
      " ['Williamstown' '96 Verdon St' 4 ... 144.89299 'Western Metropolitan'\n",
      "  6380.0]\n",
      " ['Yarraville' '6 Agnes St' 4 ... 144.88449 'Western Metropolitan' 6543.0]]\n"
     ]
    }
   ],
   "source": [
    "print(melbourne_data.values)"
   ]
  },
  {
   "cell_type": "code",
   "execution_count": 54,
   "metadata": {},
   "outputs": [
    {
     "name": "stdout",
     "output_type": "stream",
     "text": [
      "7793        1 Adelle Ct\n",
      "12660       1 Airlie St\n",
      "13203       1 Albion Ct\n",
      "1201     1 Alexander St\n",
      "12213         1 Alma St\n",
      "Name: Address, dtype: object\n"
     ]
    }
   ],
   "source": [
    "print(melbourne_data.sort_values(by='Address').Address.head())"
   ]
  },
  {
   "cell_type": "code",
   "execution_count": 71,
   "metadata": {},
   "outputs": [
    {
     "name": "stdout",
     "output_type": "stream",
     "text": [
      "All Data\n",
      "Suburb           13580\n",
      "Address          13580\n",
      "Rooms            13580\n",
      "Type             13580\n",
      "Price            13580\n",
      "                 ...  \n",
      "CouncilArea      12211\n",
      "Lattitude        13580\n",
      "Longtitude       13580\n",
      "Regionname       13580\n",
      "Propertycount    13580\n",
      "Length: 21, dtype: int64\n",
      "\n",
      "\r",
      "Northern Data\n",
      "Suburb           3890\n",
      "Address          3890\n",
      "Rooms            3890\n",
      "Type             3890\n",
      "Price            3890\n",
      "                 ... \n",
      "CouncilArea      3554\n",
      "Lattitude        3890\n",
      "Longtitude       3890\n",
      "Regionname       3890\n",
      "Propertycount    3890\n",
      "Length: 21, dtype: int64\n",
      "              Suburb           Address  Rooms Type      Price Method  \\\n",
      "0         Abbotsford      85 Turner St      2    h  1480000.0      S   \n",
      "1         Abbotsford   25 Bloomburg St      2    h  1035000.0      S   \n",
      "2         Abbotsford      5 Charles St      3    h  1465000.0     SP   \n",
      "3         Abbotsford  40 Federation La      3    h   850000.0     PI   \n",
      "4         Abbotsford       55a Park St      4    h  1600000.0     VB   \n",
      "...              ...               ...    ...  ...        ...    ...   \n",
      "13537  Roxburgh Park     8 Kennedy Pde      4    h   465000.0      S   \n",
      "13562      Thornbury   7 Ballantyne St      3    h  1450000.0      S   \n",
      "13563      Thornbury      201 Gooch St      3    h  1271000.0      S   \n",
      "13572       Watsonia     76 Kenmare St      2    h   650000.0     PI   \n",
      "13574    Westmeadows        9 Black St      3    h   582000.0      S   \n",
      "\n",
      "        SellerG        Date  Distance  Postcode      ...       Bathroom  Car  \\\n",
      "0        Biggin   3/12/2016       2.5    3067.0      ...            1.0  1.0   \n",
      "1        Biggin   4/02/2016       2.5    3067.0      ...            1.0  0.0   \n",
      "2        Biggin   4/03/2017       2.5    3067.0      ...            2.0  0.0   \n",
      "3        Biggin   4/03/2017       2.5    3067.0      ...            2.0  1.0   \n",
      "4        Nelson   4/06/2016       2.5    3067.0      ...            1.0  2.0   \n",
      "...         ...         ...       ...       ...      ...            ...  ...   \n",
      "13537       Ray  26/08/2017      20.6    3064.0      ...            2.0  1.0   \n",
      "13562  Woodards  26/08/2017       7.0    3071.0      ...            1.0  1.0   \n",
      "13563    Nelson  26/08/2017       7.0    3071.0      ...            1.0  2.0   \n",
      "13572  Morrison  26/08/2017      14.5    3087.0      ...            1.0  1.0   \n",
      "13574       Red  26/08/2017      16.5    3049.0      ...            2.0  2.0   \n",
      "\n",
      "       Landsize  BuildingArea  YearBuilt  CouncilArea Lattitude  Longtitude  \\\n",
      "0         202.0           NaN        NaN        Yarra -37.79960   144.99840   \n",
      "1         156.0          79.0     1900.0        Yarra -37.80790   144.99340   \n",
      "2         134.0         150.0     1900.0        Yarra -37.80930   144.99440   \n",
      "3          94.0           NaN        NaN        Yarra -37.79690   144.99690   \n",
      "4         120.0         142.0     2014.0        Yarra -37.80720   144.99410   \n",
      "...         ...           ...        ...          ...       ...         ...   \n",
      "13537     417.0           NaN     1999.0          NaN -37.62273   144.92567   \n",
      "13562     312.0           NaN        NaN          NaN -37.75870   144.99966   \n",
      "13563     470.0         151.0     1950.0          NaN -37.75937   145.01534   \n",
      "13572     210.0          79.0     2006.0          NaN -37.70657   145.07878   \n",
      "13574     256.0           NaN        NaN          NaN -37.67917   144.89390   \n",
      "\n",
      "                  Regionname Propertycount  \n",
      "0      Northern Metropolitan        4019.0  \n",
      "1      Northern Metropolitan        4019.0  \n",
      "2      Northern Metropolitan        4019.0  \n",
      "3      Northern Metropolitan        4019.0  \n",
      "4      Northern Metropolitan        4019.0  \n",
      "...                      ...           ...  \n",
      "13537  Northern Metropolitan        5833.0  \n",
      "13562  Northern Metropolitan        8870.0  \n",
      "13563  Northern Metropolitan        8870.0  \n",
      "13572  Northern Metropolitan        2329.0  \n",
      "13574  Northern Metropolitan        2474.0  \n",
      "\n",
      "[3890 rows x 21 columns]\n"
     ]
    }
   ],
   "source": [
    "print(\"All Data\")\n",
    "print(melbourne_data.count())\n",
    "northern_metropolitan_data = melbourne_data[melbourne_data.Regionname.isin([\"Northern Metropolitan\"])]\n",
    "\n",
    "print(\"\\n\\rNorthern Data\")\n",
    "print(northern_metropolitan_data.count())\n",
    "print(northern_metropolitan_data)\n"
   ]
  },
  {
   "cell_type": "code",
   "execution_count": null,
   "metadata": {},
   "outputs": [],
   "source": [
    "df.to_csv('foo.csv')"
   ]
  }
 ],
 "metadata": {
  "kernelspec": {
   "display_name": "Python 3",
   "language": "python",
   "name": "python3"
  },
  "language_info": {
   "codemirror_mode": {
    "name": "ipython",
    "version": 3
   },
   "file_extension": ".py",
   "mimetype": "text/x-python",
   "name": "python",
   "nbconvert_exporter": "python",
   "pygments_lexer": "ipython3",
   "version": "3.6.4"
  }
 },
 "nbformat": 4,
 "nbformat_minor": 2
}
