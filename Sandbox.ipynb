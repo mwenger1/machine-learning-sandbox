{
 "cells": [
  {
   "cell_type": "code",
   "execution_count": 6,
   "metadata": {},
   "outputs": [],
   "source": [
    "b = [1,2,3]\n"
   ]
  },
  {
   "cell_type": "code",
   "execution_count": 16,
   "metadata": {},
   "outputs": [],
   "source": [
    "b?"
   ]
  },
  {
   "cell_type": "code",
   "execution_count": 20,
   "metadata": {},
   "outputs": [
    {
     "name": "stdout",
     "output_type": "stream",
     "text": [
      "1\n",
      "2\n",
      "3\n",
      "3\n"
     ]
    }
   ],
   "source": [
    "for number in b:\n",
    "    print(number)\n",
    "    \n",
    "for number in b:\n",
    "    if number > 2:\n",
    "        print(number) "
   ]
  },
  {
   "cell_type": "code",
   "execution_count": 3,
   "metadata": {},
   "outputs": [
    {
     "name": "stdout",
     "output_type": "stream",
     "text": [
      "Foo\n",
      "56\n"
     ]
    }
   ],
   "source": [
    "a = \"foo\"\n",
    "print(a.capitalize())\n",
    "num = 56\n",
    "num_as_str = str(num)\n",
    "print(num_as_str)"
   ]
  },
  {
   "cell_type": "code",
   "execution_count": 9,
   "metadata": {},
   "outputs": [
    {
     "data": {
      "text/plain": [
       "True"
      ]
     },
     "execution_count": 9,
     "metadata": {},
     "output_type": "execute_result"
    }
   ],
   "source": [
    "True != False\n"
   ]
  },
  {
   "cell_type": "code",
   "execution_count": 10,
   "metadata": {},
   "outputs": [
    {
     "data": {
      "text/plain": [
       "True"
      ]
     },
     "execution_count": 10,
     "metadata": {},
     "output_type": "execute_result"
    }
   ],
   "source": [
    "5 != None"
   ]
  },
  {
   "cell_type": "code",
   "execution_count": 21,
   "metadata": {},
   "outputs": [
    {
     "name": "stdout",
     "output_type": "stream",
     "text": [
      "5\n",
      "1\n",
      "0\n",
      "2011\n"
     ]
    }
   ],
   "source": [
    "dt = datetime(2011,1,5,10)\n",
    "print(dt.day)\n",
    "print(dt.month)\n",
    "print(dt.minute)\n",
    "print(dt.year)"
   ]
  },
  {
   "cell_type": "code",
   "execution_count": 23,
   "metadata": {},
   "outputs": [
    {
     "name": "stdout",
     "output_type": "stream",
     "text": [
      "5\n",
      "6\n",
      "7\n",
      "8\n"
     ]
    }
   ],
   "source": [
    "for item in range(5,9):\n",
    "    print(item)"
   ]
  },
  {
   "cell_type": "code",
   "execution_count": 24,
   "metadata": {},
   "outputs": [
    {
     "data": {
      "text/plain": [
       "['a', ' ', 's', 't', 'r', 'i', 'n', 'g']"
      ]
     },
     "execution_count": 24,
     "metadata": {},
     "output_type": "execute_result"
    }
   ],
   "source": [
    "list(\"a string\")"
   ]
  },
  {
   "cell_type": "code",
   "execution_count": 26,
   "metadata": {},
   "outputs": [
    {
     "data": {
      "text/plain": [
       "'false'"
      ]
     },
     "execution_count": 26,
     "metadata": {},
     "output_type": "execute_result"
    }
   ],
   "source": [
    "\"true\" if True else \"false\"\n",
    "\"true\" if False else \"false\""
   ]
  },
  {
   "cell_type": "code",
   "execution_count": 37,
   "metadata": {},
   "outputs": [
    {
     "name": "stdout",
     "output_type": "stream",
     "text": [
      "((1, 2, 3), (4, 5))\n",
      "(1, 2, 3)\n",
      "(4, 5)\n"
     ]
    }
   ],
   "source": [
    "tuple1 = tuple([1,2,3])\n",
    "tuple2 = 4,5\n",
    "tuple3 = tuple1, tuple2\n",
    "\n",
    "print(tuple3)\n",
    "a, b = tuple3\n",
    "\n",
    "print(a)\n",
    "print(b)\n"
   ]
  },
  {
   "cell_type": "code",
   "execution_count": 74,
   "metadata": {},
   "outputs": [
    {
     "name": "stdout",
     "output_type": "stream",
     "text": [
      "[1, 2, 0, 3, 4]\n",
      "[0, 1, 2, 3, 4]\n",
      "5\n"
     ]
    },
    {
     "data": {
      "text/plain": [
       "True"
      ]
     },
     "execution_count": 74,
     "metadata": {},
     "output_type": "execute_result"
    }
   ],
   "source": [
    "myArray = [1,2,3]\n",
    "myArray.append(4)\n",
    "myArray.insert(2,0)\n",
    "print(myArray)\n",
    "myArray.sort()\n",
    "print(myArray)\n",
    "print(len(myArray))\n",
    "3 in myArray"
   ]
  },
  {
   "cell_type": "code",
   "execution_count": 58,
   "metadata": {},
   "outputs": [
    {
     "name": "stdout",
     "output_type": "stream",
     "text": [
      "{'name': 'Mike', 'email': 'mike@test.com', 'age': '50'}\n",
      "dict_keys(['name', 'email', 'age'])\n",
      "dict_values(['Mike', 'mike@test.com', '50'])\n",
      "True\n",
      "False\n"
     ]
    }
   ],
   "source": [
    "# dict = (same as associative array or hash map)\n",
    "empty_dict = {}\n",
    "empty_dict[\"name\"] = \"Mike\"\n",
    "empty_dict[\"email\"] = \"mike@test.com\"\n",
    "empty_dict[\"age\"] = \"50\"\n",
    "print(empty_dict)\n",
    "print(empty_dict.keys())\n",
    "print(empty_dict.values())\n",
    "print(\"email\" in empty_dict)\n",
    "empty_dict.pop(\"email\")\n",
    "print(\"email\" in empty_dict)"
   ]
  },
  {
   "cell_type": "code",
   "execution_count": 63,
   "metadata": {},
   "outputs": [
    {
     "name": "stdout",
     "output_type": "stream",
     "text": [
      "{2, 3, 4}\n",
      "{4}\n",
      "{2, 3, 4, 5, 6}\n"
     ]
    }
   ],
   "source": [
    "# set = array with no duplicates\n",
    "my_set1 = set([2,3,4,3])\n",
    "print(my_set1)\n",
    "\n",
    "my_set2 = set([4,5,6])\n",
    "print(my_set1 & my_set2)\n",
    "print(my_set1.union(my_set2))"
   ]
  },
  {
   "cell_type": "code",
   "execution_count": 73,
   "metadata": {},
   "outputs": [
    {
     "name": "stdout",
     "output_type": "stream",
     "text": [
      "14\n",
      "7\n",
      "5.0\n"
     ]
    },
    {
     "data": {
      "text/plain": [
       "function"
      ]
     },
     "execution_count": 73,
     "metadata": {},
     "output_type": "execute_result"
    }
   ],
   "source": [
    "# Functions - Must include return otherwise will return None. Supports keyword args and defaults\n",
    "def add_number(a, b):\n",
    "  return a + b\n",
    "\n",
    "def multiply_number(a, b = 5):\n",
    "  return a + b\n",
    "\n",
    "def divide_number(a, b):\n",
    "  return a / b\n",
    "\n",
    "print(add_number(5, 9))\n",
    "print(multiply_number(2))\n",
    "print(divide_number(b = 3, a = 15))\n",
    "\n",
    "type(add_number)"
   ]
  },
  {
   "cell_type": "code",
   "execution_count": 94,
   "metadata": {},
   "outputs": [
    {
     "name": "stdout",
     "output_type": "stream",
     "text": [
      "[[-1.42467329 -1.27010547 -0.79997512 -1.20952745 -0.17728024]\n",
      " [ 0.32175968  0.20773879  1.19746464  0.10882268 -0.73107554]\n",
      " [ 1.57063192  0.01406196 -0.91612118  0.4307806  -0.20907388]]\n",
      "(3, 5)\n"
     ]
    }
   ],
   "source": [
    "random_numbers = np.random.randn(3,5)\n",
    "\n",
    "print(random_numbers)\n",
    "print(random_numbers.shape)"
   ]
  },
  {
   "cell_type": "code",
   "execution_count": 95,
   "metadata": {},
   "outputs": [
    {
     "name": "stdout",
     "output_type": "stream",
     "text": [
      "[1 2 3 4]\n"
     ]
    },
    {
     "data": {
      "text/plain": [
       "array([[0., 0., 0., 0., 0., 0.],\n",
       "       [0., 0., 0., 0., 0., 0.]])"
      ]
     },
     "execution_count": 95,
     "metadata": {},
     "output_type": "execute_result"
    }
   ],
   "source": [
    "myArray = [1,2,3,4]\n",
    "numArray = np.array(myArray)\n",
    "print(numArray)\n",
    "\n",
    "np.zeros((2,6))\n",
    "\n"
   ]
  },
  {
   "cell_type": "code",
   "execution_count": 91,
   "metadata": {},
   "outputs": [
    {
     "data": {
      "text/plain": [
       "array(['Connor', 'Jack', 'Laura', 'Mike', 'Steve'], dtype='<U6')"
      ]
     },
     "execution_count": 91,
     "metadata": {},
     "output_type": "execute_result"
    }
   ],
   "source": [
    "myArray = [\"Mike\", \"Laura\", \"Steve\", \"Jack\", \"Connor\", \"Mike\"]\n",
    "np.unique(np.array(myArray))\n"
   ]
  },
  {
   "cell_type": "code",
   "execution_count": 96,
   "metadata": {},
   "outputs": [
    {
     "name": "stdout",
     "output_type": "stream",
     "text": [
      "[[ 1.42701869e+00  3.60336712e-01  2.10562507e-01 -5.65974514e-02]\n",
      " [ 9.72518410e-01 -5.07363442e-01  7.17731235e-04 -2.58310004e+00]\n",
      " [ 6.04762647e-01 -9.60237531e-01 -8.92334867e-01 -1.43786335e-01]\n",
      " [-6.93766652e-01 -2.51007661e+00  7.21510094e-01  2.37627100e-01]]\n"
     ]
    }
   ],
   "source": [
    "samples = np.random.normal(size=(4,4))\n",
    "print(samples)b"
   ]
  },
  {
   "cell_type": "code",
   "execution_count": 111,
   "metadata": {},
   "outputs": [
    {
     "name": "stdout",
     "output_type": "stream",
     "text": [
      "    state  pop  year status\n",
      "0    Ohio  1.5  2000    NaN\n",
      "1    Ohio  1.7  2001    NaN\n",
      "2    Ohio  3.6  2002    NaN\n",
      "3  Nevada  2.4  2001    NaN\n",
      "4  Nevada  2.9  2002    NaN\n",
      "    state  pop  year status\n",
      "0    Ohio  1.5  2000    NaN\n",
      "1    Ohio  1.7  2001    NaN\n",
      "3  Nevada  2.4  2001    NaN\n",
      "4  Nevada  2.9  2002    NaN\n",
      "5  Nevada  3.2  2003    NaN\n",
      "2    Ohio  3.6  2002    NaN\n",
      "    state  pop  year   status\n",
      "0    Ohio  1.5  2000  Unknown\n",
      "1    Ohio  1.7  2001  Unknown\n",
      "2    Ohio  3.6  2002  Unknown\n",
      "3  Nevada  2.4  2001  Unknown\n",
      "4  Nevada  2.9  2002  Unknown\n",
      "              0        1        2        3        4        5\n",
      "state      Ohio     Ohio     Ohio   Nevada   Nevada   Nevada\n",
      "pop         1.5      1.7      3.6      2.4      2.9      3.2\n",
      "year       2000     2001     2002     2001     2002     2003\n",
      "status  Unknown  Unknown  Unknown  Unknown  Unknown  Unknown\n",
      "    state  pop  year   status\n",
      "0    Ohio  1.5  2000  Unknown\n",
      "1    Ohio  1.7  2001  Unknown\n",
      "3  Nevada  2.4  2001  Unknown\n",
      "5  Nevada  3.2  2003  Unknown\n"
     ]
    }
   ],
   "source": [
    "# Pandas - best for tabular and homogeneous data\n",
    "# Series and DataFrame\n",
    "# Series is one dimensional array\n",
    "# DataFrame = rectuangular dataset\n",
    "\n",
    "import pandas as pd\n",
    "\n",
    "data = {'state': [\"Ohio\", \"Ohio\", \"Ohio\", \"Nevada\", \"Nevada\", \"Nevada\"],\n",
    "        'year': [2000, 2001, 2002, 2001, 2002, 2003],\n",
    "        'pop': [1.5, 1.7, 3.6, 2.4, 2.9, 3.2]\n",
    "       }\n",
    "\n",
    "frame = pd.DataFrame(data, columns=[\"state\", \"pop\", \"year\", \"status\"])\n",
    "print(frame.head())\n",
    "\n",
    "# sorting\n",
    "print(frame.sort_values(by=\"pop\"))\n",
    "\n",
    "frame.status = \"Unknown\"\n",
    "print(frame.head())\n",
    "\n",
    "# Transpose\n",
    "print(frame.T)\n",
    "\n",
    "# drop\n",
    "print(frame.drop([2,4]))"
   ]
  },
  {
   "cell_type": "code",
   "execution_count": 116,
   "metadata": {},
   "outputs": [
    {
     "name": "stdout",
     "output_type": "stream",
     "text": [
      "            pop         year\n",
      "count  6.000000     6.000000\n",
      "mean   2.550000  2001.500000\n",
      "std    0.836062     1.048809\n",
      "min    1.500000  2000.000000\n",
      "25%    1.875000  2001.000000\n",
      "50%    2.650000  2001.500000\n",
      "75%    3.125000  2002.000000\n",
      "max    3.600000  2003.000000\n"
     ]
    }
   ],
   "source": [
    "print(frame.describe())"
   ]
  },
  {
   "cell_type": "code",
   "execution_count": 151,
   "metadata": {},
   "outputs": [
    {
     "data": {
      "text/plain": [
       "Index(['id', 'email', 'encrypted_password', 'confirmation_token',\n",
       "       'remember_token', 'legacy_uuid', 'first_name', 'last_name',\n",
       "       'legacy_candidate_id', 'created_at', 'updated_at', 'phone_number',\n",
       "       'headline', 'facebook_username', 'linkedin_username',\n",
       "       'twitter_username', 'gender', 'military_status', 'race',\n",
       "       'last_signed_in_at', 'admin', 'marketable', 'legacy_resume_exists',\n",
       "       'professional_networkable', 'deleted_at', 'legacy_profile_photo_exists',\n",
       "       'apns_token'],\n",
       "      dtype='object')"
      ]
     },
     "execution_count": 151,
     "metadata": {},
     "output_type": "execute_result"
    }
   ],
   "source": [
    "user_data = pd.read_csv(\"./data/users.csv\")\n",
    "\n",
    "user_data.columns"
   ]
  },
  {
   "cell_type": "code",
   "execution_count": 133,
   "metadata": {},
   "outputs": [
    {
     "data": {
      "text/plain": [
       "'dhimmel'"
      ]
     },
     "execution_count": 133,
     "metadata": {},
     "output_type": "execute_result"
    }
   ],
   "source": [
    "# data from an api\n",
    "import requests\n",
    "url = \"https://api.github.com/repos/pandas-dev/pandas/issues\"\n",
    "\n",
    "resp = requests.get(url)\n",
    "data = resp.json()\n",
    "data[0]['user']['login']"
   ]
  },
  {
   "cell_type": "code",
   "execution_count": 157,
   "metadata": {},
   "outputs": [
    {
     "name": "stdout",
     "output_type": "stream",
     "text": [
      "       last_signed_in_at\n",
      "count                0.0\n",
      "mean                 NaN\n",
      "std                  NaN\n",
      "min                  NaN\n",
      "25%                  NaN\n",
      "50%                  NaN\n",
      "75%                  NaN\n",
      "max                  NaN\n",
      "                   email  last_signed_in_at\n",
      "0      admin@example.com                NaN\n",
      "1   reviewer@example.com                NaN\n",
      "2  candidate@example.com                NaN\n",
      "3     user+1@example.com                NaN\n",
      "4     user+2@example.com                NaN\n",
      "Empty DataFrame\n",
      "Columns: [email, last_signed_in_at]\n",
      "Index: []\n"
     ]
    }
   ],
   "source": [
    "columns_of_interest = [\"email\", \"last_signed_in_at\"]\n",
    "subset = user_data[columns_of_interest]\n",
    "print(subset.describe())\n",
    "print(subset.head())\n",
    "\n",
    "# This is dropping rows, not columns\n",
    "dropped = subset.dropna(how=\"any\")\n",
    "print(dropped.head())"
   ]
  },
  {
   "cell_type": "code",
   "execution_count": null,
   "metadata": {},
   "outputs": [],
   "source": []
  }
 ],
 "metadata": {
  "kernelspec": {
   "display_name": "Python 3",
   "language": "python",
   "name": "python3"
  },
  "language_info": {
   "codemirror_mode": {
    "name": "ipython",
    "version": 3
   },
   "file_extension": ".py",
   "mimetype": "text/x-python",
   "name": "python",
   "nbconvert_exporter": "python",
   "pygments_lexer": "ipython3",
   "version": "3.7.0"
  }
 },
 "nbformat": 4,
 "nbformat_minor": 2
}
