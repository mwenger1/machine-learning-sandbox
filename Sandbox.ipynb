{
 "cells": [
  {
   "cell_type": "code",
   "execution_count": 6,
   "metadata": {},
   "outputs": [],
   "source": [
    "b = [1,2,3]\n"
   ]
  },
  {
   "cell_type": "code",
   "execution_count": 16,
   "metadata": {},
   "outputs": [],
   "source": [
    "b?"
   ]
  },
  {
   "cell_type": "code",
   "execution_count": 20,
   "metadata": {},
   "outputs": [
    {
     "name": "stdout",
     "output_type": "stream",
     "text": [
      "1\n",
      "2\n",
      "3\n",
      "3\n"
     ]
    }
   ],
   "source": [
    "for number in b:\n",
    "    print(number)\n",
    "    \n",
    "for number in b:\n",
    "    if number > 2:\n",
    "        print(number) "
   ]
  },
  {
   "cell_type": "code",
   "execution_count": 3,
   "metadata": {},
   "outputs": [
    {
     "name": "stdout",
     "output_type": "stream",
     "text": [
      "Foo\n",
      "56\n"
     ]
    }
   ],
   "source": [
    "a = \"foo\"\n",
    "print(a.capitalize())\n",
    "num = 56\n",
    "num_as_str = str(num)\n",
    "print(num_as_str)"
   ]
  },
  {
   "cell_type": "code",
   "execution_count": 9,
   "metadata": {},
   "outputs": [
    {
     "data": {
      "text/plain": [
       "True"
      ]
     },
     "execution_count": 9,
     "metadata": {},
     "output_type": "execute_result"
    }
   ],
   "source": [
    "True != False\n"
   ]
  },
  {
   "cell_type": "code",
   "execution_count": 10,
   "metadata": {},
   "outputs": [
    {
     "data": {
      "text/plain": [
       "True"
      ]
     },
     "execution_count": 10,
     "metadata": {},
     "output_type": "execute_result"
    }
   ],
   "source": [
    "5 != None"
   ]
  },
  {
   "cell_type": "code",
   "execution_count": 21,
   "metadata": {},
   "outputs": [
    {
     "name": "stdout",
     "output_type": "stream",
     "text": [
      "5\n",
      "1\n",
      "0\n",
      "2011\n"
     ]
    }
   ],
   "source": [
    "dt = datetime(2011,1,5,10)\n",
    "print(dt.day)\n",
    "print(dt.month)\n",
    "print(dt.minute)\n",
    "print(dt.year)"
   ]
  },
  {
   "cell_type": "code",
   "execution_count": 23,
   "metadata": {},
   "outputs": [
    {
     "name": "stdout",
     "output_type": "stream",
     "text": [
      "5\n",
      "6\n",
      "7\n",
      "8\n"
     ]
    }
   ],
   "source": [
    "for item in range(5,9):\n",
    "    print(item)"
   ]
  },
  {
   "cell_type": "code",
   "execution_count": 24,
   "metadata": {},
   "outputs": [
    {
     "data": {
      "text/plain": [
       "['a', ' ', 's', 't', 'r', 'i', 'n', 'g']"
      ]
     },
     "execution_count": 24,
     "metadata": {},
     "output_type": "execute_result"
    }
   ],
   "source": [
    "list(\"a string\")"
   ]
  },
  {
   "cell_type": "code",
   "execution_count": 26,
   "metadata": {},
   "outputs": [
    {
     "data": {
      "text/plain": [
       "'false'"
      ]
     },
     "execution_count": 26,
     "metadata": {},
     "output_type": "execute_result"
    }
   ],
   "source": [
    "\"true\" if True else \"false\"\n",
    "\"true\" if False else \"false\""
   ]
  },
  {
   "cell_type": "code",
   "execution_count": 37,
   "metadata": {},
   "outputs": [
    {
     "name": "stdout",
     "output_type": "stream",
     "text": [
      "((1, 2, 3), (4, 5))\n",
      "(1, 2, 3)\n",
      "(4, 5)\n"
     ]
    }
   ],
   "source": [
    "tuple1 = tuple([1,2,3])\n",
    "tuple2 = 4,5\n",
    "tuple3 = tuple1, tuple2\n",
    "\n",
    "print(tuple3)\n",
    "a, b = tuple3\n",
    "\n",
    "print(a)\n",
    "print(b)\n"
   ]
  },
  {
   "cell_type": "code",
   "execution_count": 74,
   "metadata": {},
   "outputs": [
    {
     "name": "stdout",
     "output_type": "stream",
     "text": [
      "[1, 2, 0, 3, 4]\n",
      "[0, 1, 2, 3, 4]\n",
      "5\n"
     ]
    },
    {
     "data": {
      "text/plain": [
       "True"
      ]
     },
     "execution_count": 74,
     "metadata": {},
     "output_type": "execute_result"
    }
   ],
   "source": [
    "myArray = [1,2,3]\n",
    "myArray.append(4)\n",
    "myArray.insert(2,0)\n",
    "print(myArray)\n",
    "myArray.sort()\n",
    "print(myArray)\n",
    "print(len(myArray))\n",
    "3 in myArray"
   ]
  },
  {
   "cell_type": "code",
   "execution_count": 58,
   "metadata": {},
   "outputs": [
    {
     "name": "stdout",
     "output_type": "stream",
     "text": [
      "{'name': 'Mike', 'email': 'mike@test.com', 'age': '50'}\n",
      "dict_keys(['name', 'email', 'age'])\n",
      "dict_values(['Mike', 'mike@test.com', '50'])\n",
      "True\n",
      "False\n"
     ]
    }
   ],
   "source": [
    "# dict = (same as associative array or hash map)\n",
    "empty_dict = {}\n",
    "empty_dict[\"name\"] = \"Mike\"\n",
    "empty_dict[\"email\"] = \"mike@test.com\"\n",
    "empty_dict[\"age\"] = \"50\"\n",
    "print(empty_dict)\n",
    "print(empty_dict.keys())\n",
    "print(empty_dict.values())\n",
    "print(\"email\" in empty_dict)\n",
    "empty_dict.pop(\"email\")\n",
    "print(\"email\" in empty_dict)"
   ]
  },
  {
   "cell_type": "code",
   "execution_count": 63,
   "metadata": {},
   "outputs": [
    {
     "name": "stdout",
     "output_type": "stream",
     "text": [
      "{2, 3, 4}\n",
      "{4}\n",
      "{2, 3, 4, 5, 6}\n"
     ]
    }
   ],
   "source": [
    "# set = array with no duplicates\n",
    "my_set1 = set([2,3,4,3])\n",
    "print(my_set1)\n",
    "\n",
    "my_set2 = set([4,5,6])\n",
    "print(my_set1 & my_set2)\n",
    "print(my_set1.union(my_set2))"
   ]
  },
  {
   "cell_type": "code",
   "execution_count": 73,
   "metadata": {},
   "outputs": [
    {
     "name": "stdout",
     "output_type": "stream",
     "text": [
      "14\n",
      "7\n",
      "5.0\n"
     ]
    },
    {
     "data": {
      "text/plain": [
       "function"
      ]
     },
     "execution_count": 73,
     "metadata": {},
     "output_type": "execute_result"
    }
   ],
   "source": [
    "# Functions - Must include return otherwise will return None. Supports keyword args and defaults\n",
    "def add_number(a, b):\n",
    "  return a + b\n",
    "\n",
    "def multiply_number(a, b = 5):\n",
    "  return a + b\n",
    "\n",
    "def divide_number(a, b):\n",
    "  return a / b\n",
    "\n",
    "print(add_number(5, 9))\n",
    "print(multiply_number(2))\n",
    "print(divide_number(b = 3, a = 15))\n",
    "\n",
    "type(add_number)"
   ]
  },
  {
   "cell_type": "code",
   "execution_count": 83,
   "metadata": {},
   "outputs": [
    {
     "name": "stdout",
     "output_type": "stream",
     "text": [
      "[[ 0.75102913  0.52938204  1.09011891  0.47767664 -0.14108099]\n",
      " [ 1.17666856 -0.13251174  0.95101927  1.12754343 -0.38640726]\n",
      " [-0.5600253   0.06990633  1.1081656  -1.5337957   2.36424199]]\n",
      "(3, 5)\n"
     ]
    }
   ],
   "source": [
    "random_numbers = np.random.randn(3,5)\n",
    "\n",
    "print(random_numbers)\n",
    "print(random_numbers.shape)"
   ]
  },
  {
   "cell_type": "code",
   "execution_count": 88,
   "metadata": {},
   "outputs": [
    {
     "name": "stdout",
     "output_type": "stream",
     "text": [
      "[1 2 3 4]\n"
     ]
    },
    {
     "data": {
      "text/plain": [
       "array([[0., 0., 0., 0., 0., 0.],\n",
       "       [0., 0., 0., 0., 0., 0.]])"
      ]
     },
     "execution_count": 88,
     "metadata": {},
     "output_type": "execute_result"
    }
   ],
   "source": [
    "\n",
    "myArray = [1,2,3,4]\n",
    "numArray = np.array(myArray)\n",
    "print(numArray)\n",
    "\n",
    "np.zeros((2,6))\n",
    "\n"
   ]
  },
  {
   "cell_type": "code",
   "execution_count": 91,
   "metadata": {},
   "outputs": [
    {
     "data": {
      "text/plain": [
       "array(['Connor', 'Jack', 'Laura', 'Mike', 'Steve'], dtype='<U6')"
      ]
     },
     "execution_count": 91,
     "metadata": {},
     "output_type": "execute_result"
    }
   ],
   "source": [
    "myArray = [\"Mike\", \"Laura\", \"Steve\", \"Jack\", \"Connor\", \"Mike\"]\n",
    "np.unique(np.array(myArray))\n"
   ]
  },
  {
   "cell_type": "code",
   "execution_count": 93,
   "metadata": {},
   "outputs": [
    {
     "name": "stdout",
     "output_type": "stream",
     "text": [
      "[[-0.4381658   0.75407514  0.54603525 -0.45455049]\n",
      " [-1.22602764 -1.21152958 -0.09226953 -0.43266853]\n",
      " [ 1.02531216 -1.27785632 -0.56362971 -0.17438213]\n",
      " [ 0.5124822  -0.13507273  0.41609403 -0.21590879]]\n"
     ]
    }
   ],
   "source": [
    "samples = np.random.normal(size=(4,4))\n",
    "print(samples)"
   ]
  },
  {
   "cell_type": "code",
   "execution_count": null,
   "metadata": {},
   "outputs": [],
   "source": []
  }
 ],
 "metadata": {
  "kernelspec": {
   "display_name": "Python 3",
   "language": "python",
   "name": "python3"
  },
  "language_info": {
   "codemirror_mode": {
    "name": "ipython",
    "version": 3
   },
   "file_extension": ".py",
   "mimetype": "text/x-python",
   "name": "python",
   "nbconvert_exporter": "python",
   "pygments_lexer": "ipython3",
   "version": "3.7.0"
  }
 },
 "nbformat": 4,
 "nbformat_minor": 2
}
